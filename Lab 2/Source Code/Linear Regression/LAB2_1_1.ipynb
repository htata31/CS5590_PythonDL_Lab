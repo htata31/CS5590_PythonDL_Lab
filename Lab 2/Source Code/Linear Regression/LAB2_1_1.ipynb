{
  "nbformat": 4,
  "nbformat_minor": 0,
  "metadata": {
    "colab": {
      "name": "LAB2_1_1.ipynb",
      "version": "0.3.2",
      "provenance": [],
      "collapsed_sections": []
    },
    "kernelspec": {
      "name": "python3",
      "display_name": "Python 3"
    }
  },
  "cells": [
    {
      "cell_type": "code",
      "metadata": {
        "id": "bHzS96th60-l",
        "colab_type": "code",
        "colab": {}
      },
      "source": [
        "import numpy\n",
        "import pandas\n",
        "from keras.models import Sequential\n",
        "from keras.layers import Dense, Dropout\n",
        "from keras.wrappers.scikit_learn import KerasRegressor\n",
        "from sklearn.model_selection import cross_val_score\n",
        "from sklearn.model_selection import KFold\n",
        "from sklearn.preprocessing import StandardScaler\n",
        "from sklearn.pipeline import Pipeline\n",
        "import pandas as pd\n",
        "from keras.optimizers import SGD, Adam, Adamax\n",
        "from sklearn.model_selection import train_test_split\n",
        "from keras.callbacks import TensorBoard\n",
        "from sklearn.preprocessing import LabelEncoder\n",
        "from keras import metrics\n",
        "import matplotlib.pyplot as plt\n"
      ],
      "execution_count": 0,
      "outputs": []
    },
    {
      "cell_type": "code",
      "metadata": {
        "id": "VY6ft4t76_Dt",
        "colab_type": "code",
        "outputId": "46033f20-2cac-417b-dd4c-2aaf2350466e",
        "colab": {
          "base_uri": "https://localhost:8080/",
          "height": 119
        }
      },
      "source": [
        "dataset=pd.read_csv('drive/My Drive/Python_ICP/insurance.csv')\n",
        "le = LabelEncoder()\n",
        "dataset['region'] = le.fit_transform(dataset['region'].astype('str'))\n",
        "dataset['sex'] = le.fit_transform(dataset['sex'].astype('str'))\n",
        "dataset['smoker'] = le.fit_transform(dataset['smoker'].astype('str'))\n",
        "\n",
        "print(dataset.head())\n",
        "# dataset = dataset.values\n",
        "# split into input (X) and output (Y) variables\n",
        "X = dataset.iloc[:,0:6]\n",
        "Y = dataset.iloc[:,6]\n",
        "X_train, X_test, Y_train, Y_test = train_test_split(X, Y,\n",
        "                                                    test_size=0.25, random_state=100)"
      ],
      "execution_count": 0,
      "outputs": [
        {
          "output_type": "stream",
          "text": [
            "   age  sex     bmi  children  smoker  region      charges\n",
            "0   19    0  27.900         0       1       3  16884.92400\n",
            "1   18    1  33.770         1       0       2   1725.55230\n",
            "2   28    1  33.000         3       0       2   4449.46200\n",
            "3   33    1  22.705         0       0       1  21984.47061\n",
            "4   32    1  28.880         0       0       1   3866.85520\n"
          ],
          "name": "stdout"
        }
      ]
    },
    {
      "cell_type": "code",
      "metadata": {
        "id": "8eg-UZ457I5_",
        "colab_type": "code",
        "colab": {}
      },
      "source": [
        "# HyperParameters1\n",
        "activation_function=\"tanh\"\n",
        "learning_rate=0.1\n",
        "epochs=50\n",
        "b_size=32\n",
        "decay_rate= learning_rate / epochs\n",
        "adam= Adam(lr=learning_rate, decay=decay_rate)"
      ],
      "execution_count": 0,
      "outputs": []
    },
    {
      "cell_type": "code",
      "metadata": {
        "id": "nBV9u0Rj7W5a",
        "colab_type": "code",
        "colab": {}
      },
      "source": [
        "# HyperParameters2\n",
        "activation_function=\"relu\"\n",
        "learning_rate=0.3\n",
        "epochs=100\n",
        "b_size=32\n",
        "decay_rate= learning_rate / epochs\n",
        "sgd= SGD(lr=learning_rate, decay=decay_rate)"
      ],
      "execution_count": 0,
      "outputs": []
    },
    {
      "cell_type": "code",
      "metadata": {
        "id": "WGYRMKjG7Oye",
        "colab_type": "code",
        "outputId": "cb9404ff-0e3d-46c1-b50c-076cc990dbbf",
        "colab": {
          "base_uri": "https://localhost:8080/",
          "height": 1000
        }
      },
      "source": [
        "#Define the model\n",
        "\n",
        "model = Sequential()\n",
        "model.add(Dense(50, input_dim = 6, activation=activation_function))\n",
        "model.add(Dropout(0.1))\n",
        "model.add(Dense(20, activation=activation_function))\n",
        "model.add(Dense(10, activation=activation_function))\n",
        "model.add(Dense(1,input_dim = 6, activation=activation_function))\n",
        "  \n",
        "model.compile(optimizer = \"Adamax\", loss = 'mean_squared_error', metrics = [metrics.mae])\n",
        "tbCallBack = TensorBoard(log_dir='./Graph1', histogram_freq=0, write_graph=True, write_images=True)\n",
        "hist = model.fit(X_train, Y_train, validation_data=(X_test, Y_test), epochs=epochs, batch_size=b_size,callbacks=[tbCallBack])"
      ],
      "execution_count": 0,
      "outputs": [
        {
          "output_type": "stream",
          "text": [
            "Train on 1003 samples, validate on 335 samples\n",
            "Epoch 1/100\n",
            "1003/1003 [==============================] - 0s 210us/step - loss: 316610080.7657 - mean_absolute_error: 13057.0604 - val_loss: 338641518.6149 - val_mean_absolute_error: 13836.8588\n",
            "Epoch 2/100\n",
            "1003/1003 [==============================] - 0s 45us/step - loss: 315461227.4696 - mean_absolute_error: 13017.0184 - val_loss: 336822773.4925 - val_mean_absolute_error: 13774.6826\n",
            "Epoch 3/100\n",
            "1003/1003 [==============================] - 0s 52us/step - loss: 313087823.9362 - mean_absolute_error: 12931.3061 - val_loss: 333350017.2418 - val_mean_absolute_error: 13655.1031\n",
            "Epoch 4/100\n",
            "1003/1003 [==============================] - 0s 48us/step - loss: 308323391.6171 - mean_absolute_error: 12758.6714 - val_loss: 326355663.4746 - val_mean_absolute_error: 13410.9571\n",
            "Epoch 5/100\n",
            "1003/1003 [==============================] - 0s 51us/step - loss: 299341066.1456 - mean_absolute_error: 12429.2498 - val_loss: 314154357.4925 - val_mean_absolute_error: 12973.9112\n",
            "Epoch 6/100\n",
            "1003/1003 [==============================] - 0s 49us/step - loss: 284704375.8006 - mean_absolute_error: 11871.9992 - val_loss: 294577902.8060 - val_mean_absolute_error: 12240.2008\n",
            "Epoch 7/100\n",
            "1003/1003 [==============================] - 0s 48us/step - loss: 263214243.0947 - mean_absolute_error: 11024.5378 - val_loss: 269763976.5970 - val_mean_absolute_error: 11274.3422\n",
            "Epoch 8/100\n",
            "1003/1003 [==============================] - 0s 56us/step - loss: 236671386.9591 - mean_absolute_error: 9947.6299 - val_loss: 237973846.5433 - val_mean_absolute_error: 10045.2989\n",
            "Epoch 9/100\n",
            "1003/1003 [==============================] - 0s 48us/step - loss: 208763779.5254 - mean_absolute_error: 8824.2257 - val_loss: 209770282.7940 - val_mean_absolute_error: 8973.3455\n",
            "Epoch 10/100\n",
            "1003/1003 [==============================] - 0s 49us/step - loss: 181698451.8285 - mean_absolute_error: 7927.7511 - val_loss: 179439629.8507 - val_mean_absolute_error: 7950.7464\n",
            "Epoch 11/100\n",
            "1003/1003 [==============================] - 0s 51us/step - loss: 155063618.2971 - mean_absolute_error: 7427.8777 - val_loss: 154736602.8896 - val_mean_absolute_error: 7664.0853\n",
            "Epoch 12/100\n",
            "1003/1003 [==============================] - 0s 48us/step - loss: 137948381.5274 - mean_absolute_error: 7808.6834 - val_loss: 140776849.0030 - val_mean_absolute_error: 8261.7109\n",
            "Epoch 13/100\n",
            "1003/1003 [==============================] - 0s 46us/step - loss: 129891411.0309 - mean_absolute_error: 8461.5697 - val_loss: 136065495.3075 - val_mean_absolute_error: 8772.6749\n",
            "Epoch 14/100\n",
            "1003/1003 [==============================] - 0s 49us/step - loss: 128098580.1316 - mean_absolute_error: 8803.0692 - val_loss: 134907079.2119 - val_mean_absolute_error: 9004.6621\n",
            "Epoch 15/100\n",
            "1003/1003 [==============================] - 0s 46us/step - loss: 128138192.3908 - mean_absolute_error: 8929.7445 - val_loss: 134701132.9910 - val_mean_absolute_error: 9042.9418\n",
            "Epoch 16/100\n",
            "1003/1003 [==============================] - 0s 48us/step - loss: 129045948.4666 - mean_absolute_error: 9053.1204 - val_loss: 134576691.7254 - val_mean_absolute_error: 9053.6417\n",
            "Epoch 17/100\n",
            "1003/1003 [==============================] - 0s 48us/step - loss: 127516043.4536 - mean_absolute_error: 8944.2503 - val_loss: 134446689.7194 - val_mean_absolute_error: 9066.0633\n",
            "Epoch 18/100\n",
            "1003/1003 [==============================] - 0s 47us/step - loss: 129110497.0847 - mean_absolute_error: 9031.4445 - val_loss: 134314531.9164 - val_mean_absolute_error: 9080.2444\n",
            "Epoch 19/100\n",
            "1003/1003 [==============================] - 0s 56us/step - loss: 128741501.9900 - mean_absolute_error: 9035.9782 - val_loss: 134212895.8090 - val_mean_absolute_error: 9083.5548\n",
            "Epoch 20/100\n",
            "1003/1003 [==============================] - 0s 52us/step - loss: 127910494.1815 - mean_absolute_error: 8962.4369 - val_loss: 134156220.7522 - val_mean_absolute_error: 9066.9839\n",
            "Epoch 21/100\n",
            "1003/1003 [==============================] - 0s 55us/step - loss: 127428967.0708 - mean_absolute_error: 9001.7823 - val_loss: 134067324.1313 - val_mean_absolute_error: 9062.7394\n",
            "Epoch 22/100\n",
            "1003/1003 [==============================] - 0s 49us/step - loss: 127995279.5294 - mean_absolute_error: 8947.7376 - val_loss: 134086081.2418 - val_mean_absolute_error: 9014.7986\n",
            "Epoch 23/100\n",
            "1003/1003 [==============================] - 0s 47us/step - loss: 127672650.2493 - mean_absolute_error: 8937.1080 - val_loss: 133954153.2179 - val_mean_absolute_error: 9029.5124\n",
            "Epoch 24/100\n",
            "1003/1003 [==============================] - 0s 48us/step - loss: 127439786.0179 - mean_absolute_error: 9018.5849 - val_loss: 133747342.9493 - val_mean_absolute_error: 9070.9226\n",
            "Epoch 25/100\n",
            "1003/1003 [==============================] - 0s 51us/step - loss: 127902701.7428 - mean_absolute_error: 8977.6547 - val_loss: 133685114.3164 - val_mean_absolute_error: 9055.5342\n",
            "Epoch 26/100\n",
            "1003/1003 [==============================] - 0s 48us/step - loss: 127688709.7507 - mean_absolute_error: 9024.6882 - val_loss: 133529282.0537 - val_mean_absolute_error: 9080.8911\n",
            "Epoch 27/100\n",
            "1003/1003 [==============================] - 0s 48us/step - loss: 128573839.9282 - mean_absolute_error: 8903.9240 - val_loss: 133728703.5701 - val_mean_absolute_error: 8971.5086\n",
            "Epoch 28/100\n",
            "1003/1003 [==============================] - 0s 48us/step - loss: 126295406.2054 - mean_absolute_error: 8915.8584 - val_loss: 133506989.9463 - val_mean_absolute_error: 9016.1929\n",
            "Epoch 29/100\n",
            "1003/1003 [==============================] - 0s 52us/step - loss: 127597609.9222 - mean_absolute_error: 8942.4339 - val_loss: 133443919.4269 - val_mean_absolute_error: 9006.4392\n",
            "Epoch 30/100\n",
            "1003/1003 [==============================] - 0s 47us/step - loss: 127906998.0299 - mean_absolute_error: 8954.1176 - val_loss: 133308006.8299 - val_mean_absolute_error: 9021.8604\n",
            "Epoch 31/100\n",
            "1003/1003 [==============================] - 0s 47us/step - loss: 127315971.2702 - mean_absolute_error: 8956.3664 - val_loss: 133177318.7343 - val_mean_absolute_error: 9035.6337\n",
            "Epoch 32/100\n",
            "1003/1003 [==============================] - 0s 51us/step - loss: 127327777.1486 - mean_absolute_error: 8980.6674 - val_loss: 133025228.5612 - val_mean_absolute_error: 9062.6049\n",
            "Epoch 33/100\n",
            "1003/1003 [==============================] - 0s 49us/step - loss: 126794918.1655 - mean_absolute_error: 9028.3911 - val_loss: 132919496.9791 - val_mean_absolute_error: 9063.4166\n",
            "Epoch 34/100\n",
            "1003/1003 [==============================] - 0s 52us/step - loss: 127791601.6191 - mean_absolute_error: 8982.2473 - val_loss: 133000504.6448 - val_mean_absolute_error: 8989.3178\n",
            "Epoch 35/100\n",
            "1003/1003 [==============================] - 0s 48us/step - loss: 127240899.8923 - mean_absolute_error: 8932.6551 - val_loss: 132987807.3791 - val_mean_absolute_error: 8958.6551\n",
            "Epoch 36/100\n",
            "1003/1003 [==============================] - 0s 48us/step - loss: 127462139.6929 - mean_absolute_error: 8991.2761 - val_loss: 132672755.2955 - val_mean_absolute_error: 9043.3023\n",
            "Epoch 37/100\n",
            "1003/1003 [==============================] - 0s 51us/step - loss: 126417234.5803 - mean_absolute_error: 8973.1554 - val_loss: 132546800.6209 - val_mean_absolute_error: 9058.2662\n",
            "Epoch 38/100\n",
            "1003/1003 [==============================] - 0s 53us/step - loss: 126976243.1745 - mean_absolute_error: 9015.4964 - val_loss: 132587578.2687 - val_mean_absolute_error: 8998.3439\n",
            "Epoch 39/100\n",
            "1003/1003 [==============================] - 0s 64us/step - loss: 126608163.4776 - mean_absolute_error: 8957.4988 - val_loss: 132455530.4119 - val_mean_absolute_error: 9012.1922\n",
            "Epoch 40/100\n",
            "1003/1003 [==============================] - 0s 49us/step - loss: 126140364.6899 - mean_absolute_error: 8910.6349 - val_loss: 132281710.0418 - val_mean_absolute_error: 9045.8814\n",
            "Epoch 41/100\n",
            "1003/1003 [==============================] - 0s 49us/step - loss: 124914164.4746 - mean_absolute_error: 8886.2031 - val_loss: 132207880.2149 - val_mean_absolute_error: 9032.2800\n",
            "Epoch 42/100\n",
            "1003/1003 [==============================] - 0s 47us/step - loss: 125905064.5743 - mean_absolute_error: 8993.4775 - val_loss: 132055598.8537 - val_mean_absolute_error: 9052.9194\n",
            "Epoch 43/100\n",
            "1003/1003 [==============================] - 0s 46us/step - loss: 125389588.5344 - mean_absolute_error: 8933.1670 - val_loss: 132116637.7075 - val_mean_absolute_error: 8976.2648\n",
            "Epoch 44/100\n",
            "1003/1003 [==============================] - 0s 52us/step - loss: 125917485.1446 - mean_absolute_error: 8922.0367 - val_loss: 131942611.8209 - val_mean_absolute_error: 8999.9104\n",
            "Epoch 45/100\n",
            "1003/1003 [==============================] - 0s 46us/step - loss: 125929623.1625 - mean_absolute_error: 8919.3448 - val_loss: 131918499.3433 - val_mean_absolute_error: 8963.6124\n",
            "Epoch 46/100\n",
            "1003/1003 [==============================] - 0s 54us/step - loss: 124938809.9063 - mean_absolute_error: 8912.4001 - val_loss: 131648262.9254 - val_mean_absolute_error: 9035.5646\n",
            "Epoch 47/100\n",
            "1003/1003 [==============================] - 0s 47us/step - loss: 125410752.8056 - mean_absolute_error: 8952.9642 - val_loss: 131561529.0269 - val_mean_absolute_error: 9030.9495\n",
            "Epoch 48/100\n",
            "1003/1003 [==============================] - 0s 50us/step - loss: 125901893.2084 - mean_absolute_error: 8925.8074 - val_loss: 131597321.1224 - val_mean_absolute_error: 8969.7016\n",
            "Epoch 49/100\n",
            "1003/1003 [==============================] - 0s 46us/step - loss: 125941176.0319 - mean_absolute_error: 8958.5552 - val_loss: 131464097.8149 - val_mean_absolute_error: 8981.0094\n",
            "Epoch 50/100\n",
            "1003/1003 [==============================] - 0s 52us/step - loss: 124712285.6391 - mean_absolute_error: 8861.7626 - val_loss: 131340110.0896 - val_mean_absolute_error: 8987.7249\n",
            "Epoch 51/100\n",
            "1003/1003 [==============================] - 0s 49us/step - loss: 125193810.3450 - mean_absolute_error: 8876.8443 - val_loss: 131237806.9015 - val_mean_absolute_error: 8983.6611\n",
            "Epoch 52/100\n",
            "1003/1003 [==============================] - 0s 48us/step - loss: 124904782.3330 - mean_absolute_error: 8878.3882 - val_loss: 131195304.7881 - val_mean_absolute_error: 8954.2612\n",
            "Epoch 53/100\n",
            "1003/1003 [==============================] - 0s 51us/step - loss: 126060161.6630 - mean_absolute_error: 8853.4268 - val_loss: 131115656.7881 - val_mean_absolute_error: 8943.4247\n",
            "Epoch 54/100\n",
            "1003/1003 [==============================] - 0s 46us/step - loss: 125127464.4227 - mean_absolute_error: 8815.4705 - val_loss: 131098747.4627 - val_mean_absolute_error: 8908.9315\n",
            "Epoch 55/100\n",
            "1003/1003 [==============================] - 0s 53us/step - loss: 124343510.3968 - mean_absolute_error: 8834.6955 - val_loss: 130687188.3940 - val_mean_absolute_error: 9030.0212\n",
            "Epoch 56/100\n",
            "1003/1003 [==============================] - 0s 48us/step - loss: 125336054.6361 - mean_absolute_error: 9042.6231 - val_loss: 130559547.7015 - val_mean_absolute_error: 9032.4872\n",
            "Epoch 57/100\n",
            "1003/1003 [==============================] - 0s 46us/step - loss: 124786122.1296 - mean_absolute_error: 8819.4334 - val_loss: 130784596.8239 - val_mean_absolute_error: 8886.5308\n",
            "Epoch 58/100\n",
            "1003/1003 [==============================] - 0s 48us/step - loss: 124233569.0169 - mean_absolute_error: 8822.4863 - val_loss: 130495741.7075 - val_mean_absolute_error: 8941.7993\n",
            "Epoch 59/100\n",
            "1003/1003 [==============================] - 0s 53us/step - loss: 125461641.1964 - mean_absolute_error: 8826.8742 - val_loss: 130300885.8269 - val_mean_absolute_error: 8967.6914\n",
            "Epoch 60/100\n",
            "1003/1003 [==============================] - 0s 50us/step - loss: 124273353.1406 - mean_absolute_error: 8896.8907 - val_loss: 130050672.2866 - val_mean_absolute_error: 9029.9419\n",
            "Epoch 61/100\n",
            "1003/1003 [==============================] - 0s 51us/step - loss: 123700467.9880 - mean_absolute_error: 8900.0407 - val_loss: 130021972.0597 - val_mean_absolute_error: 8966.9139\n",
            "Epoch 62/100\n",
            "1003/1003 [==============================] - 0s 47us/step - loss: 125248843.0389 - mean_absolute_error: 8891.3701 - val_loss: 129994936.1194 - val_mean_absolute_error: 8917.2740\n",
            "Epoch 63/100\n",
            "1003/1003 [==============================] - 0s 47us/step - loss: 123924800.8814 - mean_absolute_error: 8855.0305 - val_loss: 129783571.6776 - val_mean_absolute_error: 8942.1642\n",
            "Epoch 64/100\n",
            "1003/1003 [==============================] - 0s 55us/step - loss: 123598882.6560 - mean_absolute_error: 8839.7734 - val_loss: 129628825.8866 - val_mean_absolute_error: 8943.0646\n",
            "Epoch 65/100\n",
            "1003/1003 [==============================] - 0s 52us/step - loss: 123553759.2662 - mean_absolute_error: 8876.7041 - val_loss: 129573572.8716 - val_mean_absolute_error: 8908.2432\n",
            "Epoch 66/100\n",
            "1003/1003 [==============================] - 0s 49us/step - loss: 123283606.1575 - mean_absolute_error: 8804.7484 - val_loss: 129365435.3672 - val_mean_absolute_error: 8929.7301\n",
            "Epoch 67/100\n",
            "1003/1003 [==============================] - 0s 47us/step - loss: 123190220.1635 - mean_absolute_error: 8875.4132 - val_loss: 129174334.3761 - val_mean_absolute_error: 8948.7998\n",
            "Epoch 68/100\n",
            "1003/1003 [==============================] - 0s 55us/step - loss: 122624383.3380 - mean_absolute_error: 8848.7480 - val_loss: 129138984.3104 - val_mean_absolute_error: 8901.1671\n",
            "Epoch 69/100\n",
            "1003/1003 [==============================] - 0s 48us/step - loss: 123847796.0837 - mean_absolute_error: 8829.0737 - val_loss: 129083499.0328 - val_mean_absolute_error: 8863.6828\n",
            "Epoch 70/100\n",
            "1003/1003 [==============================] - 0s 55us/step - loss: 122137112.9332 - mean_absolute_error: 8806.8979 - val_loss: 128730526.0418 - val_mean_absolute_error: 8948.5175\n",
            "Epoch 71/100\n",
            "1003/1003 [==============================] - 0s 49us/step - loss: 123672551.6730 - mean_absolute_error: 8922.1358 - val_loss: 128729740.0836 - val_mean_absolute_error: 8882.8847\n",
            "Epoch 72/100\n",
            "1003/1003 [==============================] - 0s 50us/step - loss: 122448409.9541 - mean_absolute_error: 8866.4367 - val_loss: 128474843.7970 - val_mean_absolute_error: 8924.6384\n",
            "Epoch 73/100\n",
            "1003/1003 [==============================] - 0s 49us/step - loss: 122251256.8415 - mean_absolute_error: 8838.8544 - val_loss: 128312812.6090 - val_mean_absolute_error: 8921.2299\n",
            "Epoch 74/100\n",
            "1003/1003 [==============================] - 0s 49us/step - loss: 124158515.0469 - mean_absolute_error: 8852.3051 - val_loss: 128369238.4955 - val_mean_absolute_error: 8834.4235\n",
            "Epoch 75/100\n",
            "1003/1003 [==============================] - 0s 51us/step - loss: 122592690.9950 - mean_absolute_error: 8765.5130 - val_loss: 128083987.8209 - val_mean_absolute_error: 8889.7092\n",
            "Epoch 76/100\n",
            "1003/1003 [==============================] - 0s 51us/step - loss: 122297864.6620 - mean_absolute_error: 8835.9508 - val_loss: 127969962.6030 - val_mean_absolute_error: 8881.6706\n",
            "Epoch 77/100\n",
            "1003/1003 [==============================] - 0s 48us/step - loss: 121528951.7527 - mean_absolute_error: 8758.3032 - val_loss: 127831692.8955 - val_mean_absolute_error: 8880.3483\n",
            "Epoch 78/100\n",
            "1003/1003 [==============================] - 0s 51us/step - loss: 122649787.8684 - mean_absolute_error: 8784.9322 - val_loss: 127737681.1940 - val_mean_absolute_error: 8855.8144\n",
            "Epoch 79/100\n",
            "1003/1003 [==============================] - 0s 49us/step - loss: 121748816.2951 - mean_absolute_error: 8802.3568 - val_loss: 127573085.8985 - val_mean_absolute_error: 8856.2568\n",
            "Epoch 80/100\n",
            "1003/1003 [==============================] - 0s 50us/step - loss: 121488598.1894 - mean_absolute_error: 8779.1910 - val_loss: 127368115.2478 - val_mean_absolute_error: 8878.3167\n",
            "Epoch 81/100\n",
            "1003/1003 [==============================] - 0s 46us/step - loss: 120632396.4427 - mean_absolute_error: 8806.8141 - val_loss: 127153261.9940 - val_mean_absolute_error: 8897.1874\n",
            "Epoch 82/100\n",
            "1003/1003 [==============================] - 0s 52us/step - loss: 121380960.0000 - mean_absolute_error: 8749.9063 - val_loss: 127146555.9403 - val_mean_absolute_error: 8821.8729\n",
            "Epoch 83/100\n",
            "1003/1003 [==============================] - 0s 46us/step - loss: 122133169.7228 - mean_absolute_error: 8783.1088 - val_loss: 126957364.4418 - val_mean_absolute_error: 8824.7874\n",
            "Epoch 84/100\n",
            "1003/1003 [==============================] - 0s 51us/step - loss: 121492846.3928 - mean_absolute_error: 8790.4251 - val_loss: 126703298.1493 - val_mean_absolute_error: 8856.2428\n",
            "Epoch 85/100\n",
            "1003/1003 [==============================] - 0s 47us/step - loss: 119653692.5543 - mean_absolute_error: 8690.9621 - val_loss: 126547448.3582 - val_mean_absolute_error: 8841.1249\n",
            "Epoch 86/100\n",
            "1003/1003 [==============================] - 0s 48us/step - loss: 120579522.7318 - mean_absolute_error: 8750.0480 - val_loss: 126359014.0179 - val_mean_absolute_error: 8836.7056\n",
            "Epoch 87/100\n",
            "1003/1003 [==============================] - 0s 57us/step - loss: 119472219.7886 - mean_absolute_error: 8683.0000 - val_loss: 126213049.4090 - val_mean_absolute_error: 8818.8727\n",
            "Epoch 88/100\n",
            "1003/1003 [==============================] - 0s 48us/step - loss: 119982944.2712 - mean_absolute_error: 8672.8104 - val_loss: 125958802.1970 - val_mean_absolute_error: 8841.0730\n",
            "Epoch 89/100\n",
            "1003/1003 [==============================] - 0s 55us/step - loss: 121249028.2193 - mean_absolute_error: 8821.9746 - val_loss: 125747453.6119 - val_mean_absolute_error: 8842.8111\n",
            "Epoch 90/100\n",
            "1003/1003 [==============================] - 0s 48us/step - loss: 121282802.9352 - mean_absolute_error: 8754.1262 - val_loss: 125700844.5612 - val_mean_absolute_error: 8768.7549\n",
            "Epoch 91/100\n",
            "1003/1003 [==============================] - 0s 48us/step - loss: 119459685.8185 - mean_absolute_error: 8705.2939 - val_loss: 125321281.1940 - val_mean_absolute_error: 8823.1050\n",
            "Epoch 92/100\n",
            "1003/1003 [==============================] - 0s 48us/step - loss: 118981965.7667 - mean_absolute_error: 8687.8381 - val_loss: 125182184.5493 - val_mean_absolute_error: 8779.3528\n",
            "Epoch 93/100\n",
            "1003/1003 [==============================] - 0s 49us/step - loss: 118504724.3071 - mean_absolute_error: 8630.7928 - val_loss: 124916239.1403 - val_mean_absolute_error: 8790.9480\n",
            "Epoch 94/100\n",
            "1003/1003 [==============================] - 0s 48us/step - loss: 120229662.3649 - mean_absolute_error: 8725.0237 - val_loss: 124619531.8925 - val_mean_absolute_error: 8824.7271\n",
            "Epoch 95/100\n",
            "1003/1003 [==============================] - 0s 47us/step - loss: 119545451.9163 - mean_absolute_error: 8714.3318 - val_loss: 124439597.3254 - val_mean_absolute_error: 8792.1507\n",
            "Epoch 96/100\n",
            "1003/1003 [==============================] - 0s 49us/step - loss: 118471392.4626 - mean_absolute_error: 8745.0164 - val_loss: 124138724.5851 - val_mean_absolute_error: 8824.2210\n",
            "Epoch 97/100\n",
            "1003/1003 [==============================] - 0s 53us/step - loss: 118850863.3300 - mean_absolute_error: 8597.6179 - val_loss: 124236739.6299 - val_mean_absolute_error: 8683.0202\n",
            "Epoch 98/100\n",
            "1003/1003 [==============================] - 0s 48us/step - loss: 117790729.0489 - mean_absolute_error: 8651.4396 - val_loss: 123732125.1343 - val_mean_absolute_error: 8769.7575\n",
            "Epoch 99/100\n",
            "1003/1003 [==============================] - 0s 46us/step - loss: 118189425.8026 - mean_absolute_error: 8631.7953 - val_loss: 123557832.5015 - val_mean_absolute_error: 8728.1356\n",
            "Epoch 100/100\n",
            "1003/1003 [==============================] - 0s 50us/step - loss: 117584878.5962 - mean_absolute_error: 8635.0621 - val_loss: 123226595.1522 - val_mean_absolute_error: 8749.8530\n"
          ],
          "name": "stdout"
        }
      ]
    },
    {
      "cell_type": "code",
      "metadata": {
        "id": "0g23dc0v7czk",
        "colab_type": "code",
        "outputId": "5587f146-56d5-4184-e340-31b1ac4290ee",
        "colab": {
          "base_uri": "https://localhost:8080/",
          "height": 34
        }
      },
      "source": [
        "# Final evaluation of the model\n",
        "mae, loss= model.evaluate(X_test, Y_test, verbose=0)\n",
        "print(mae, loss)"
      ],
      "execution_count": 0,
      "outputs": [
        {
          "output_type": "stream",
          "text": [
            "339499822.80597013 13866.023011893656\n"
          ],
          "name": "stdout"
        }
      ]
    },
    {
      "cell_type": "code",
      "metadata": {
        "id": "GdqcUpem7lCj",
        "colab_type": "code",
        "outputId": "ca8daaf0-570c-4e64-fdfd-5d078bdd980c",
        "colab": {
          "base_uri": "https://localhost:8080/",
          "height": 573
        }
      },
      "source": [
        "# accuracy history\n",
        "plt.plot(hist.history['mean_absolute_error'])\n",
        "plt.plot(hist.history['val_mean_absolute_error'])\n",
        "plt.title('model mae')\n",
        "plt.ylabel('mae')\n",
        "plt.xlabel('epoch')\n",
        "plt.legend(['train', 'test'], loc='upper left')\n",
        "plt.show()\n",
        "# loss\n",
        "plt.plot(hist.history['loss'])\n",
        "plt.plot(hist.history['val_loss'])\n",
        "plt.title('model loss')\n",
        "plt.ylabel('loss')\n",
        "plt.xlabel('epoch')\n",
        "plt.legend(['train', 'test'], loc='upper left')\n",
        "plt.show()"
      ],
      "execution_count": 0,
      "outputs": [
        {
          "output_type": "display_data",
          "data": {
            "image/png": "[encoded data removed]",
            "text/plain": [
              "<Figure size 432x288 with 1 Axes>"
            ]
          },
          "metadata": {
            "tags": []
          }
        },
        {
          "output_type": "display_data",
          "data": {
            "image/png": "[encoded data removed]",
            "text/plain": [
              "<Figure size 432x288 with 1 Axes>"
            ]
          },
          "metadata": {
            "tags": []
          }
        }
      ]
    },
    {
      "cell_type": "code",
      "metadata": {
        "id": "BtldZLGY7giy",
        "colab_type": "code",
        "colab": {}
      },
      "source": [
        "%load_ext tensorboard\n",
        "%tensorboard --logdir Graph1"
      ],
      "execution_count": 0,
      "outputs": []
    }
  ]
}